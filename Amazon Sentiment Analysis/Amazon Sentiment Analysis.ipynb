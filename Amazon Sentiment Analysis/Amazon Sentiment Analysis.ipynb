{
  "cells": [
    {
      "cell_type": "markdown",
      "id": "1f212592",
      "metadata": {
        "id": "1f212592"
      },
      "source": [
        "## Data Loading"
      ]
    },
    {
      "cell_type": "markdown",
      "id": "1ba5ab22",
      "metadata": {
        "id": "1ba5ab22"
      },
      "source": [
        "Importing the necessary libraries, like pandas, numpy and some plotting libraries such as matplotlib and seaborn"
      ]
    },
    {
      "cell_type": "code",
      "execution_count": 1,
      "id": "80e53105",
      "metadata": {
        "id": "80e53105"
      },
      "outputs": [],
      "source": [
        "# importing math library\n",
        "import pandas as pd\n",
        "import numpy as np\n",
        "# importing plotting library\n",
        "import matplotlib.pyplot as plt\n",
        "import seaborn as sns\n",
        "# importing warnings\n",
        "import warnings\n",
        "# set ignore warnings to avoid it \n",
        "warnings.filterwarnings('ignore')"
      ]
    },
    {
      "cell_type": "markdown",
      "id": "59a8c083",
      "metadata": {
        "id": "59a8c083"
      },
      "source": [
        "Reading of data as a pandas dataframe and named as df"
      ]
    },
    {
      "cell_type": "code",
      "execution_count": 2,
      "id": "ba6cc4e8",
      "metadata": {
        "id": "ba6cc4e8"
      },
      "outputs": [],
      "source": [
        "# reading the dataset from csv file\n",
        "df = pd.read_csv('Musical_instruments_reviews.csv')"
      ]
    },
    {
      "cell_type": "code",
      "execution_count": 3,
      "id": "6967ea42",
      "metadata": {
        "colab": {
          "base_uri": "https://localhost:8080/",
          "height": 240
        },
        "id": "6967ea42",
        "outputId": "497a2fb5-85de-46f4-cad4-2ba10b0f9002"
      },
      "outputs": [
        {
          "output_type": "execute_result",
          "data": {
            "text/plain": [
              "       reviewerID        asin  \\\n",
              "0  A2IBPI20UZIR0U  1384719342   \n",
              "1  A14VAT5EAX3D9S  1384719342   \n",
              "2  A195EZSQDW3E21  1384719342   \n",
              "\n",
              "                                       reviewerName   helpful  \\\n",
              "0  cassandra tu \"Yeah, well, that's just like, u...    [0, 0]   \n",
              "1                                              Jake  [13, 14]   \n",
              "2                     Rick Bennette \"Rick Bennette\"    [1, 1]   \n",
              "\n",
              "                                          reviewText  overall  \\\n",
              "0  Not much to write about here, but it does exac...      5.0   \n",
              "1  The product does exactly as it should and is q...      5.0   \n",
              "2  The primary job of this device is to block the...      5.0   \n",
              "\n",
              "                summary  unixReviewTime   reviewTime  \n",
              "0                  good      1393545600  02 28, 2014  \n",
              "1                  Jake      1363392000  03 16, 2013  \n",
              "2  It Does The Job Well      1377648000  08 28, 2013  "
            ],
            "text/html": [
              "\n",
              "  <div id=\"df-d8bb0876-465b-43a5-a64f-927cd8d7e214\">\n",
              "    <div class=\"colab-df-container\">\n",
              "      <div>\n",
              "<style scoped>\n",
              "    .dataframe tbody tr th:only-of-type {\n",
              "        vertical-align: middle;\n",
              "    }\n",
              "\n",
              "    .dataframe tbody tr th {\n",
              "        vertical-align: top;\n",
              "    }\n",
              "\n",
              "    .dataframe thead th {\n",
              "        text-align: right;\n",
              "    }\n",
              "</style>\n",
              "<table border=\"1\" class=\"dataframe\">\n",
              "  <thead>\n",
              "    <tr style=\"text-align: right;\">\n",
              "      <th></th>\n",
              "      <th>reviewerID</th>\n",
              "      <th>asin</th>\n",
              "      <th>reviewerName</th>\n",
              "      <th>helpful</th>\n",
              "      <th>reviewText</th>\n",
              "      <th>overall</th>\n",
              "      <th>summary</th>\n",
              "      <th>unixReviewTime</th>\n",
              "      <th>reviewTime</th>\n",
              "    </tr>\n",
              "  </thead>\n",
              "  <tbody>\n",
              "    <tr>\n",
              "      <th>0</th>\n",
              "      <td>A2IBPI20UZIR0U</td>\n",
              "      <td>1384719342</td>\n",
              "      <td>cassandra tu \"Yeah, well, that's just like, u...</td>\n",
              "      <td>[0, 0]</td>\n",
              "      <td>Not much to write about here, but it does exac...</td>\n",
              "      <td>5.0</td>\n",
              "      <td>good</td>\n",
              "      <td>1393545600</td>\n",
              "      <td>02 28, 2014</td>\n",
              "    </tr>\n",
              "    <tr>\n",
              "      <th>1</th>\n",
              "      <td>A14VAT5EAX3D9S</td>\n",
              "      <td>1384719342</td>\n",
              "      <td>Jake</td>\n",
              "      <td>[13, 14]</td>\n",
              "      <td>The product does exactly as it should and is q...</td>\n",
              "      <td>5.0</td>\n",
              "      <td>Jake</td>\n",
              "      <td>1363392000</td>\n",
              "      <td>03 16, 2013</td>\n",
              "    </tr>\n",
              "    <tr>\n",
              "      <th>2</th>\n",
              "      <td>A195EZSQDW3E21</td>\n",
              "      <td>1384719342</td>\n",
              "      <td>Rick Bennette \"Rick Bennette\"</td>\n",
              "      <td>[1, 1]</td>\n",
              "      <td>The primary job of this device is to block the...</td>\n",
              "      <td>5.0</td>\n",
              "      <td>It Does The Job Well</td>\n",
              "      <td>1377648000</td>\n",
              "      <td>08 28, 2013</td>\n",
              "    </tr>\n",
              "  </tbody>\n",
              "</table>\n",
              "</div>\n",
              "      <button class=\"colab-df-convert\" onclick=\"convertToInteractive('df-d8bb0876-465b-43a5-a64f-927cd8d7e214')\"\n",
              "              title=\"Convert this dataframe to an interactive table.\"\n",
              "              style=\"display:none;\">\n",
              "        \n",
              "  <svg xmlns=\"http://www.w3.org/2000/svg\" height=\"24px\"viewBox=\"0 0 24 24\"\n",
              "       width=\"24px\">\n",
              "    <path d=\"M0 0h24v24H0V0z\" fill=\"none\"/>\n",
              "    <path d=\"M18.56 5.44l.94 2.06.94-2.06 2.06-.94-2.06-.94-.94-2.06-.94 2.06-2.06.94zm-11 1L8.5 8.5l.94-2.06 2.06-.94-2.06-.94L8.5 2.5l-.94 2.06-2.06.94zm10 10l.94 2.06.94-2.06 2.06-.94-2.06-.94-.94-2.06-.94 2.06-2.06.94z\"/><path d=\"M17.41 7.96l-1.37-1.37c-.4-.4-.92-.59-1.43-.59-.52 0-1.04.2-1.43.59L10.3 9.45l-7.72 7.72c-.78.78-.78 2.05 0 2.83L4 21.41c.39.39.9.59 1.41.59.51 0 1.02-.2 1.41-.59l7.78-7.78 2.81-2.81c.8-.78.8-2.07 0-2.86zM5.41 20L4 18.59l7.72-7.72 1.47 1.35L5.41 20z\"/>\n",
              "  </svg>\n",
              "      </button>\n",
              "      \n",
              "  <style>\n",
              "    .colab-df-container {\n",
              "      display:flex;\n",
              "      flex-wrap:wrap;\n",
              "      gap: 12px;\n",
              "    }\n",
              "\n",
              "    .colab-df-convert {\n",
              "      background-color: #E8F0FE;\n",
              "      border: none;\n",
              "      border-radius: 50%;\n",
              "      cursor: pointer;\n",
              "      display: none;\n",
              "      fill: #1967D2;\n",
              "      height: 32px;\n",
              "      padding: 0 0 0 0;\n",
              "      width: 32px;\n",
              "    }\n",
              "\n",
              "    .colab-df-convert:hover {\n",
              "      background-color: #E2EBFA;\n",
              "      box-shadow: 0px 1px 2px rgba(60, 64, 67, 0.3), 0px 1px 3px 1px rgba(60, 64, 67, 0.15);\n",
              "      fill: #174EA6;\n",
              "    }\n",
              "\n",
              "    [theme=dark] .colab-df-convert {\n",
              "      background-color: #3B4455;\n",
              "      fill: #D2E3FC;\n",
              "    }\n",
              "\n",
              "    [theme=dark] .colab-df-convert:hover {\n",
              "      background-color: #434B5C;\n",
              "      box-shadow: 0px 1px 3px 1px rgba(0, 0, 0, 0.15);\n",
              "      filter: drop-shadow(0px 1px 2px rgba(0, 0, 0, 0.3));\n",
              "      fill: #FFFFFF;\n",
              "    }\n",
              "  </style>\n",
              "\n",
              "      <script>\n",
              "        const buttonEl =\n",
              "          document.querySelector('#df-d8bb0876-465b-43a5-a64f-927cd8d7e214 button.colab-df-convert');\n",
              "        buttonEl.style.display =\n",
              "          google.colab.kernel.accessAllowed ? 'block' : 'none';\n",
              "\n",
              "        async function convertToInteractive(key) {\n",
              "          const element = document.querySelector('#df-d8bb0876-465b-43a5-a64f-927cd8d7e214');\n",
              "          const dataTable =\n",
              "            await google.colab.kernel.invokeFunction('convertToInteractive',\n",
              "                                                     [key], {});\n",
              "          if (!dataTable) return;\n",
              "\n",
              "          const docLinkHtml = 'Like what you see? Visit the ' +\n",
              "            '<a target=\"_blank\" href=https://colab.research.google.com/notebooks/data_table.ipynb>data table notebook</a>'\n",
              "            + ' to learn more about interactive tables.';\n",
              "          element.innerHTML = '';\n",
              "          dataTable['output_type'] = 'display_data';\n",
              "          await google.colab.output.renderOutput(dataTable, element);\n",
              "          const docLink = document.createElement('div');\n",
              "          docLink.innerHTML = docLinkHtml;\n",
              "          element.appendChild(docLink);\n",
              "        }\n",
              "      </script>\n",
              "    </div>\n",
              "  </div>\n",
              "  "
            ]
          },
          "metadata": {},
          "execution_count": 3
        }
      ],
      "source": [
        "# printing the dataset\n",
        "df.head(3)"
      ]
    },
    {
      "cell_type": "code",
      "source": [
        "# printing the size of the dataset\n",
        "df.shape"
      ],
      "metadata": {
        "colab": {
          "base_uri": "https://localhost:8080/"
        },
        "id": "Q4XuMCjARft3",
        "outputId": "a375dff6-e4ed-4879-9510-69e02ef01371"
      },
      "id": "Q4XuMCjARft3",
      "execution_count": 4,
      "outputs": [
        {
          "output_type": "execute_result",
          "data": {
            "text/plain": [
              "(10261, 9)"
            ]
          },
          "metadata": {},
          "execution_count": 4
        }
      ]
    },
    {
      "cell_type": "code",
      "source": [
        "# counting all the unique values of users\n",
        "df['reviewerID'].nunique()"
      ],
      "metadata": {
        "colab": {
          "base_uri": "https://localhost:8080/"
        },
        "id": "ZwVF97EgSvVV",
        "outputId": "83839cd0-a9a3-4278-d024-0014dd5fc24c"
      },
      "id": "ZwVF97EgSvVV",
      "execution_count": 5,
      "outputs": [
        {
          "output_type": "execute_result",
          "data": {
            "text/plain": [
              "1429"
            ]
          },
          "metadata": {},
          "execution_count": 5
        }
      ]
    },
    {
      "cell_type": "code",
      "source": [
        "# counting all the unique values products\n",
        "df['asin'].nunique()"
      ],
      "metadata": {
        "colab": {
          "base_uri": "https://localhost:8080/"
        },
        "id": "3slsaJPUTnIr",
        "outputId": "a132ad7b-a4d7-42b6-fec5-96a9f563723a"
      },
      "id": "3slsaJPUTnIr",
      "execution_count": 6,
      "outputs": [
        {
          "output_type": "execute_result",
          "data": {
            "text/plain": [
              "900"
            ]
          },
          "metadata": {},
          "execution_count": 6
        }
      ]
    },
    {
      "cell_type": "markdown",
      "id": "819c7033",
      "metadata": {
        "id": "819c7033"
      },
      "source": [
        "**About Data:**\n",
        "\n",
        "*   reviewerID - ID of the reviewer\n",
        "*   asin - ID of the product\n",
        "*   reviewerName - name of the reviewer\n",
        "*   helpful - helpfulness rating of the review, e.g. 2/3\n",
        "*   reviewText - text of the review\n",
        "*   overall - rating of the product\n",
        "*   summary - summary of the review\n",
        "*   unixReviewTime - time of the review (unix)\n",
        "*   reviewTime - time of the review"
      ]
    },
    {
      "cell_type": "markdown",
      "id": "753ad973",
      "metadata": {
        "id": "753ad973"
      },
      "source": [
        "**Insights:**\n",
        "\n",
        "*   Currently data contains lots of columns, no columns is clear as input and none of a clear output.\n",
        "*   Review-Time, unixReviewTime, asin are the seems to be useless."
      ]
    },
    {
      "cell_type": "markdown",
      "id": "fa6b702b",
      "metadata": {
        "id": "fa6b702b"
      },
      "source": [
        "## Data Exploration and Cleaning"
      ]
    },
    {
      "cell_type": "code",
      "execution_count": 7,
      "id": "911b7b98",
      "metadata": {
        "colab": {
          "base_uri": "https://localhost:8080/"
        },
        "id": "911b7b98",
        "outputId": "39952aa5-ac55-4531-9aac-3f7b39c39662"
      },
      "outputs": [
        {
          "output_type": "execute_result",
          "data": {
            "text/plain": [
              "reviewerID         0\n",
              "asin               0\n",
              "reviewerName      27\n",
              "helpful            0\n",
              "reviewText         7\n",
              "overall            0\n",
              "summary            0\n",
              "unixReviewTime     0\n",
              "reviewTime         0\n",
              "dtype: int64"
            ]
          },
          "metadata": {},
          "execution_count": 7
        }
      ],
      "source": [
        "# Count the number of null values for each columns\n",
        "df.isna().sum()"
      ]
    },
    {
      "cell_type": "markdown",
      "id": "41475c3c",
      "metadata": {
        "id": "41475c3c"
      },
      "source": [
        "There are 27 null values in **reviewerName** and 7 null values in reviewText. **reviewerName** columns is not usefull and due to small number in reviewText we can drop these rows"
      ]
    },
    {
      "cell_type": "code",
      "execution_count": 8,
      "id": "096e0852",
      "metadata": {
        "id": "096e0852"
      },
      "outputs": [],
      "source": [
        "# drop the specified columns\n",
        "df.drop('reviewerName', axis=1, inplace=True)\n",
        "# dropping of nan values\n",
        "df.dropna(inplace=True)"
      ]
    },
    {
      "cell_type": "markdown",
      "id": "aa6a42e4",
      "metadata": {
        "id": "aa6a42e4"
      },
      "source": [
        "It is good to combine reviewText and summary in a single columns"
      ]
    },
    {
      "cell_type": "code",
      "execution_count": 9,
      "id": "16e829ea",
      "metadata": {
        "id": "16e829ea"
      },
      "outputs": [],
      "source": [
        "# combining two columns into one\n",
        "df['reviews'] = df['reviewText']+df['summary']"
      ]
    },
    {
      "cell_type": "code",
      "execution_count": 10,
      "id": "3040f4b4",
      "metadata": {
        "id": "3040f4b4"
      },
      "outputs": [],
      "source": [
        "# dropping the reviewText and summary column\n",
        "df.drop(['reviewText','summary'], axis=1, inplace=True)"
      ]
    },
    {
      "cell_type": "code",
      "execution_count": 11,
      "id": "c261a26f",
      "metadata": {
        "colab": {
          "base_uri": "https://localhost:8080/",
          "height": 143
        },
        "id": "c261a26f",
        "outputId": "f3783b70-2a09-416b-f641-ca48b2448e85"
      },
      "outputs": [
        {
          "output_type": "execute_result",
          "data": {
            "text/plain": [
              "       reviewerID        asin   helpful  overall  unixReviewTime   reviewTime  \\\n",
              "0  A2IBPI20UZIR0U  1384719342    [0, 0]      5.0      1393545600  02 28, 2014   \n",
              "1  A14VAT5EAX3D9S  1384719342  [13, 14]      5.0      1363392000  03 16, 2013   \n",
              "2  A195EZSQDW3E21  1384719342    [1, 1]      5.0      1377648000  08 28, 2013   \n",
              "\n",
              "                                             reviews  \n",
              "0  Not much to write about here, but it does exac...  \n",
              "1  The product does exactly as it should and is q...  \n",
              "2  The primary job of this device is to block the...  "
            ],
            "text/html": [
              "\n",
              "  <div id=\"df-babb205f-de8a-4979-a4a0-ee7a8d1a7eac\">\n",
              "    <div class=\"colab-df-container\">\n",
              "      <div>\n",
              "<style scoped>\n",
              "    .dataframe tbody tr th:only-of-type {\n",
              "        vertical-align: middle;\n",
              "    }\n",
              "\n",
              "    .dataframe tbody tr th {\n",
              "        vertical-align: top;\n",
              "    }\n",
              "\n",
              "    .dataframe thead th {\n",
              "        text-align: right;\n",
              "    }\n",
              "</style>\n",
              "<table border=\"1\" class=\"dataframe\">\n",
              "  <thead>\n",
              "    <tr style=\"text-align: right;\">\n",
              "      <th></th>\n",
              "      <th>reviewerID</th>\n",
              "      <th>asin</th>\n",
              "      <th>helpful</th>\n",
              "      <th>overall</th>\n",
              "      <th>unixReviewTime</th>\n",
              "      <th>reviewTime</th>\n",
              "      <th>reviews</th>\n",
              "    </tr>\n",
              "  </thead>\n",
              "  <tbody>\n",
              "    <tr>\n",
              "      <th>0</th>\n",
              "      <td>A2IBPI20UZIR0U</td>\n",
              "      <td>1384719342</td>\n",
              "      <td>[0, 0]</td>\n",
              "      <td>5.0</td>\n",
              "      <td>1393545600</td>\n",
              "      <td>02 28, 2014</td>\n",
              "      <td>Not much to write about here, but it does exac...</td>\n",
              "    </tr>\n",
              "    <tr>\n",
              "      <th>1</th>\n",
              "      <td>A14VAT5EAX3D9S</td>\n",
              "      <td>1384719342</td>\n",
              "      <td>[13, 14]</td>\n",
              "      <td>5.0</td>\n",
              "      <td>1363392000</td>\n",
              "      <td>03 16, 2013</td>\n",
              "      <td>The product does exactly as it should and is q...</td>\n",
              "    </tr>\n",
              "    <tr>\n",
              "      <th>2</th>\n",
              "      <td>A195EZSQDW3E21</td>\n",
              "      <td>1384719342</td>\n",
              "      <td>[1, 1]</td>\n",
              "      <td>5.0</td>\n",
              "      <td>1377648000</td>\n",
              "      <td>08 28, 2013</td>\n",
              "      <td>The primary job of this device is to block the...</td>\n",
              "    </tr>\n",
              "  </tbody>\n",
              "</table>\n",
              "</div>\n",
              "      <button class=\"colab-df-convert\" onclick=\"convertToInteractive('df-babb205f-de8a-4979-a4a0-ee7a8d1a7eac')\"\n",
              "              title=\"Convert this dataframe to an interactive table.\"\n",
              "              style=\"display:none;\">\n",
              "        \n",
              "  <svg xmlns=\"http://www.w3.org/2000/svg\" height=\"24px\"viewBox=\"0 0 24 24\"\n",
              "       width=\"24px\">\n",
              "    <path d=\"M0 0h24v24H0V0z\" fill=\"none\"/>\n",
              "    <path d=\"M18.56 5.44l.94 2.06.94-2.06 2.06-.94-2.06-.94-.94-2.06-.94 2.06-2.06.94zm-11 1L8.5 8.5l.94-2.06 2.06-.94-2.06-.94L8.5 2.5l-.94 2.06-2.06.94zm10 10l.94 2.06.94-2.06 2.06-.94-2.06-.94-.94-2.06-.94 2.06-2.06.94z\"/><path d=\"M17.41 7.96l-1.37-1.37c-.4-.4-.92-.59-1.43-.59-.52 0-1.04.2-1.43.59L10.3 9.45l-7.72 7.72c-.78.78-.78 2.05 0 2.83L4 21.41c.39.39.9.59 1.41.59.51 0 1.02-.2 1.41-.59l7.78-7.78 2.81-2.81c.8-.78.8-2.07 0-2.86zM5.41 20L4 18.59l7.72-7.72 1.47 1.35L5.41 20z\"/>\n",
              "  </svg>\n",
              "      </button>\n",
              "      \n",
              "  <style>\n",
              "    .colab-df-container {\n",
              "      display:flex;\n",
              "      flex-wrap:wrap;\n",
              "      gap: 12px;\n",
              "    }\n",
              "\n",
              "    .colab-df-convert {\n",
              "      background-color: #E8F0FE;\n",
              "      border: none;\n",
              "      border-radius: 50%;\n",
              "      cursor: pointer;\n",
              "      display: none;\n",
              "      fill: #1967D2;\n",
              "      height: 32px;\n",
              "      padding: 0 0 0 0;\n",
              "      width: 32px;\n",
              "    }\n",
              "\n",
              "    .colab-df-convert:hover {\n",
              "      background-color: #E2EBFA;\n",
              "      box-shadow: 0px 1px 2px rgba(60, 64, 67, 0.3), 0px 1px 3px 1px rgba(60, 64, 67, 0.15);\n",
              "      fill: #174EA6;\n",
              "    }\n",
              "\n",
              "    [theme=dark] .colab-df-convert {\n",
              "      background-color: #3B4455;\n",
              "      fill: #D2E3FC;\n",
              "    }\n",
              "\n",
              "    [theme=dark] .colab-df-convert:hover {\n",
              "      background-color: #434B5C;\n",
              "      box-shadow: 0px 1px 3px 1px rgba(0, 0, 0, 0.15);\n",
              "      filter: drop-shadow(0px 1px 2px rgba(0, 0, 0, 0.3));\n",
              "      fill: #FFFFFF;\n",
              "    }\n",
              "  </style>\n",
              "\n",
              "      <script>\n",
              "        const buttonEl =\n",
              "          document.querySelector('#df-babb205f-de8a-4979-a4a0-ee7a8d1a7eac button.colab-df-convert');\n",
              "        buttonEl.style.display =\n",
              "          google.colab.kernel.accessAllowed ? 'block' : 'none';\n",
              "\n",
              "        async function convertToInteractive(key) {\n",
              "          const element = document.querySelector('#df-babb205f-de8a-4979-a4a0-ee7a8d1a7eac');\n",
              "          const dataTable =\n",
              "            await google.colab.kernel.invokeFunction('convertToInteractive',\n",
              "                                                     [key], {});\n",
              "          if (!dataTable) return;\n",
              "\n",
              "          const docLinkHtml = 'Like what you see? Visit the ' +\n",
              "            '<a target=\"_blank\" href=https://colab.research.google.com/notebooks/data_table.ipynb>data table notebook</a>'\n",
              "            + ' to learn more about interactive tables.';\n",
              "          element.innerHTML = '';\n",
              "          dataTable['output_type'] = 'display_data';\n",
              "          await google.colab.output.renderOutput(dataTable, element);\n",
              "          const docLink = document.createElement('div');\n",
              "          docLink.innerHTML = docLinkHtml;\n",
              "          element.appendChild(docLink);\n",
              "        }\n",
              "      </script>\n",
              "    </div>\n",
              "  </div>\n",
              "  "
            ]
          },
          "metadata": {},
          "execution_count": 11
        }
      ],
      "source": [
        "# Reviewing the dataset\n",
        "df.head(3)"
      ]
    },
    {
      "cell_type": "code",
      "execution_count": 12,
      "id": "5778aca6",
      "metadata": {
        "colab": {
          "base_uri": "https://localhost:8080/"
        },
        "id": "5778aca6",
        "outputId": "10e2a440-c24d-44a0-99fa-81e7a6493e4c"
      },
      "outputs": [
        {
          "output_type": "execute_result",
          "data": {
            "text/plain": [
              "5.0    6932\n",
              "4.0    2083\n",
              "3.0     772\n",
              "2.0     250\n",
              "1.0     217\n",
              "Name: overall, dtype: int64"
            ]
          },
          "metadata": {},
          "execution_count": 12
        }
      ],
      "source": [
        "# Counting number of values for each of the lables\n",
        "df['overall'].value_counts()"
      ]
    },
    {
      "cell_type": "markdown",
      "id": "bb51f9d3",
      "metadata": {
        "id": "bb51f9d3"
      },
      "source": [
        "I will use overall column to prepare the output of the data set.\n",
        "*   Having overall **5 or 4** - labeled as positive\n",
        "*   Having overall equal to **3** - labeled as neutral\n",
        "*   Having overall **2 or 1** - labeled as negative.\n",
        "\n"
      ]
    },
    {
      "cell_type": "code",
      "execution_count": 13,
      "id": "d4a8ddca",
      "metadata": {
        "id": "d4a8ddca"
      },
      "outputs": [],
      "source": [
        "# write a function to create a traget columns to create a target column\n",
        "\n",
        "def function(df):\n",
        "    # write neutral if equal to 3\n",
        "    if df['overall'] == 3.0:\n",
        "        val = 'Neutral'\n",
        "    # write negative if less than 3\n",
        "    elif df['overall'] == 1.0 or df['overall'] == 2.0:\n",
        "        val = 'Negative'\n",
        "    # write positive if greater than 3\n",
        "    elif df['overall'] == 4.0 or df['overall'] == 5.0:\n",
        "        val = 'Positive'\n",
        "    # otherwise return -1\n",
        "    else:\n",
        "        val = -1\n",
        "    return val"
      ]
    },
    {
      "cell_type": "code",
      "execution_count": 14,
      "id": "f3f7b3ba",
      "metadata": {
        "id": "f3f7b3ba"
      },
      "outputs": [],
      "source": [
        "# applied the created function to the dataset and create a new column named as sentiment\n",
        "df['sentiment'] = df.apply(function, axis=1)"
      ]
    },
    {
      "cell_type": "code",
      "execution_count": 15,
      "id": "559ab7a3",
      "metadata": {
        "colab": {
          "base_uri": "https://localhost:8080/",
          "height": 143
        },
        "id": "559ab7a3",
        "outputId": "43f9e803-07d5-4cd2-cf15-e5e52d7cbcb1"
      },
      "outputs": [
        {
          "output_type": "execute_result",
          "data": {
            "text/plain": [
              "       reviewerID        asin   helpful  overall  unixReviewTime   reviewTime  \\\n",
              "0  A2IBPI20UZIR0U  1384719342    [0, 0]      5.0      1393545600  02 28, 2014   \n",
              "1  A14VAT5EAX3D9S  1384719342  [13, 14]      5.0      1363392000  03 16, 2013   \n",
              "2  A195EZSQDW3E21  1384719342    [1, 1]      5.0      1377648000  08 28, 2013   \n",
              "\n",
              "                                             reviews sentiment  \n",
              "0  Not much to write about here, but it does exac...  Positive  \n",
              "1  The product does exactly as it should and is q...  Positive  \n",
              "2  The primary job of this device is to block the...  Positive  "
            ],
            "text/html": [
              "\n",
              "  <div id=\"df-b4423c58-a532-4052-9021-5825ffc83747\">\n",
              "    <div class=\"colab-df-container\">\n",
              "      <div>\n",
              "<style scoped>\n",
              "    .dataframe tbody tr th:only-of-type {\n",
              "        vertical-align: middle;\n",
              "    }\n",
              "\n",
              "    .dataframe tbody tr th {\n",
              "        vertical-align: top;\n",
              "    }\n",
              "\n",
              "    .dataframe thead th {\n",
              "        text-align: right;\n",
              "    }\n",
              "</style>\n",
              "<table border=\"1\" class=\"dataframe\">\n",
              "  <thead>\n",
              "    <tr style=\"text-align: right;\">\n",
              "      <th></th>\n",
              "      <th>reviewerID</th>\n",
              "      <th>asin</th>\n",
              "      <th>helpful</th>\n",
              "      <th>overall</th>\n",
              "      <th>unixReviewTime</th>\n",
              "      <th>reviewTime</th>\n",
              "      <th>reviews</th>\n",
              "      <th>sentiment</th>\n",
              "    </tr>\n",
              "  </thead>\n",
              "  <tbody>\n",
              "    <tr>\n",
              "      <th>0</th>\n",
              "      <td>A2IBPI20UZIR0U</td>\n",
              "      <td>1384719342</td>\n",
              "      <td>[0, 0]</td>\n",
              "      <td>5.0</td>\n",
              "      <td>1393545600</td>\n",
              "      <td>02 28, 2014</td>\n",
              "      <td>Not much to write about here, but it does exac...</td>\n",
              "      <td>Positive</td>\n",
              "    </tr>\n",
              "    <tr>\n",
              "      <th>1</th>\n",
              "      <td>A14VAT5EAX3D9S</td>\n",
              "      <td>1384719342</td>\n",
              "      <td>[13, 14]</td>\n",
              "      <td>5.0</td>\n",
              "      <td>1363392000</td>\n",
              "      <td>03 16, 2013</td>\n",
              "      <td>The product does exactly as it should and is q...</td>\n",
              "      <td>Positive</td>\n",
              "    </tr>\n",
              "    <tr>\n",
              "      <th>2</th>\n",
              "      <td>A195EZSQDW3E21</td>\n",
              "      <td>1384719342</td>\n",
              "      <td>[1, 1]</td>\n",
              "      <td>5.0</td>\n",
              "      <td>1377648000</td>\n",
              "      <td>08 28, 2013</td>\n",
              "      <td>The primary job of this device is to block the...</td>\n",
              "      <td>Positive</td>\n",
              "    </tr>\n",
              "  </tbody>\n",
              "</table>\n",
              "</div>\n",
              "      <button class=\"colab-df-convert\" onclick=\"convertToInteractive('df-b4423c58-a532-4052-9021-5825ffc83747')\"\n",
              "              title=\"Convert this dataframe to an interactive table.\"\n",
              "              style=\"display:none;\">\n",
              "        \n",
              "  <svg xmlns=\"http://www.w3.org/2000/svg\" height=\"24px\"viewBox=\"0 0 24 24\"\n",
              "       width=\"24px\">\n",
              "    <path d=\"M0 0h24v24H0V0z\" fill=\"none\"/>\n",
              "    <path d=\"M18.56 5.44l.94 2.06.94-2.06 2.06-.94-2.06-.94-.94-2.06-.94 2.06-2.06.94zm-11 1L8.5 8.5l.94-2.06 2.06-.94-2.06-.94L8.5 2.5l-.94 2.06-2.06.94zm10 10l.94 2.06.94-2.06 2.06-.94-2.06-.94-.94-2.06-.94 2.06-2.06.94z\"/><path d=\"M17.41 7.96l-1.37-1.37c-.4-.4-.92-.59-1.43-.59-.52 0-1.04.2-1.43.59L10.3 9.45l-7.72 7.72c-.78.78-.78 2.05 0 2.83L4 21.41c.39.39.9.59 1.41.59.51 0 1.02-.2 1.41-.59l7.78-7.78 2.81-2.81c.8-.78.8-2.07 0-2.86zM5.41 20L4 18.59l7.72-7.72 1.47 1.35L5.41 20z\"/>\n",
              "  </svg>\n",
              "      </button>\n",
              "      \n",
              "  <style>\n",
              "    .colab-df-container {\n",
              "      display:flex;\n",
              "      flex-wrap:wrap;\n",
              "      gap: 12px;\n",
              "    }\n",
              "\n",
              "    .colab-df-convert {\n",
              "      background-color: #E8F0FE;\n",
              "      border: none;\n",
              "      border-radius: 50%;\n",
              "      cursor: pointer;\n",
              "      display: none;\n",
              "      fill: #1967D2;\n",
              "      height: 32px;\n",
              "      padding: 0 0 0 0;\n",
              "      width: 32px;\n",
              "    }\n",
              "\n",
              "    .colab-df-convert:hover {\n",
              "      background-color: #E2EBFA;\n",
              "      box-shadow: 0px 1px 2px rgba(60, 64, 67, 0.3), 0px 1px 3px 1px rgba(60, 64, 67, 0.15);\n",
              "      fill: #174EA6;\n",
              "    }\n",
              "\n",
              "    [theme=dark] .colab-df-convert {\n",
              "      background-color: #3B4455;\n",
              "      fill: #D2E3FC;\n",
              "    }\n",
              "\n",
              "    [theme=dark] .colab-df-convert:hover {\n",
              "      background-color: #434B5C;\n",
              "      box-shadow: 0px 1px 3px 1px rgba(0, 0, 0, 0.15);\n",
              "      filter: drop-shadow(0px 1px 2px rgba(0, 0, 0, 0.3));\n",
              "      fill: #FFFFFF;\n",
              "    }\n",
              "  </style>\n",
              "\n",
              "      <script>\n",
              "        const buttonEl =\n",
              "          document.querySelector('#df-b4423c58-a532-4052-9021-5825ffc83747 button.colab-df-convert');\n",
              "        buttonEl.style.display =\n",
              "          google.colab.kernel.accessAllowed ? 'block' : 'none';\n",
              "\n",
              "        async function convertToInteractive(key) {\n",
              "          const element = document.querySelector('#df-b4423c58-a532-4052-9021-5825ffc83747');\n",
              "          const dataTable =\n",
              "            await google.colab.kernel.invokeFunction('convertToInteractive',\n",
              "                                                     [key], {});\n",
              "          if (!dataTable) return;\n",
              "\n",
              "          const docLinkHtml = 'Like what you see? Visit the ' +\n",
              "            '<a target=\"_blank\" href=https://colab.research.google.com/notebooks/data_table.ipynb>data table notebook</a>'\n",
              "            + ' to learn more about interactive tables.';\n",
              "          element.innerHTML = '';\n",
              "          dataTable['output_type'] = 'display_data';\n",
              "          await google.colab.output.renderOutput(dataTable, element);\n",
              "          const docLink = document.createElement('div');\n",
              "          docLink.innerHTML = docLinkHtml;\n",
              "          element.appendChild(docLink);\n",
              "        }\n",
              "      </script>\n",
              "    </div>\n",
              "  </div>\n",
              "  "
            ]
          },
          "metadata": {},
          "execution_count": 15
        }
      ],
      "source": [
        "# reviewing a dataset\n",
        "df.head(3)"
      ]
    },
    {
      "cell_type": "code",
      "execution_count": 16,
      "id": "1ea53760",
      "metadata": {
        "colab": {
          "base_uri": "https://localhost:8080/"
        },
        "id": "1ea53760",
        "outputId": "00702667-af8e-4bf7-c750-8d6b296e00bb"
      },
      "outputs": [
        {
          "output_type": "execute_result",
          "data": {
            "text/plain": [
              "Positive    9015\n",
              "Neutral      772\n",
              "Negative     467\n",
              "Name: sentiment, dtype: int64"
            ]
          },
          "metadata": {},
          "execution_count": 16
        }
      ],
      "source": [
        "# Counting the number of each sentiment in the dataset\n",
        "df['sentiment'].value_counts()"
      ]
    },
    {
      "cell_type": "markdown",
      "id": "5d4ee789",
      "metadata": {
        "id": "5d4ee789"
      },
      "source": [
        "Now deleting the columns like **asin, helpful, overall, unixReviewTime, ReviewTime**."
      ]
    },
    {
      "cell_type": "code",
      "execution_count": 17,
      "id": "66e6abcc",
      "metadata": {
        "id": "66e6abcc"
      },
      "outputs": [],
      "source": [
        "# deleting the columns\n",
        "df.drop(['asin', 'helpful', 'unixReviewTime', 'reviewTime', 'overall'], axis = 1, inplace = True)"
      ]
    },
    {
      "cell_type": "code",
      "execution_count": 18,
      "id": "b705716f",
      "metadata": {
        "colab": {
          "base_uri": "https://localhost:8080/",
          "height": 143
        },
        "id": "b705716f",
        "outputId": "4a7b060e-2d10-48d3-909f-f5fa62c473bb"
      },
      "outputs": [
        {
          "output_type": "execute_result",
          "data": {
            "text/plain": [
              "       reviewerID                                            reviews sentiment\n",
              "0  A2IBPI20UZIR0U  Not much to write about here, but it does exac...  Positive\n",
              "1  A14VAT5EAX3D9S  The product does exactly as it should and is q...  Positive\n",
              "2  A195EZSQDW3E21  The primary job of this device is to block the...  Positive"
            ],
            "text/html": [
              "\n",
              "  <div id=\"df-0c7134eb-b1b8-418e-b137-fc7607c99c9d\">\n",
              "    <div class=\"colab-df-container\">\n",
              "      <div>\n",
              "<style scoped>\n",
              "    .dataframe tbody tr th:only-of-type {\n",
              "        vertical-align: middle;\n",
              "    }\n",
              "\n",
              "    .dataframe tbody tr th {\n",
              "        vertical-align: top;\n",
              "    }\n",
              "\n",
              "    .dataframe thead th {\n",
              "        text-align: right;\n",
              "    }\n",
              "</style>\n",
              "<table border=\"1\" class=\"dataframe\">\n",
              "  <thead>\n",
              "    <tr style=\"text-align: right;\">\n",
              "      <th></th>\n",
              "      <th>reviewerID</th>\n",
              "      <th>reviews</th>\n",
              "      <th>sentiment</th>\n",
              "    </tr>\n",
              "  </thead>\n",
              "  <tbody>\n",
              "    <tr>\n",
              "      <th>0</th>\n",
              "      <td>A2IBPI20UZIR0U</td>\n",
              "      <td>Not much to write about here, but it does exac...</td>\n",
              "      <td>Positive</td>\n",
              "    </tr>\n",
              "    <tr>\n",
              "      <th>1</th>\n",
              "      <td>A14VAT5EAX3D9S</td>\n",
              "      <td>The product does exactly as it should and is q...</td>\n",
              "      <td>Positive</td>\n",
              "    </tr>\n",
              "    <tr>\n",
              "      <th>2</th>\n",
              "      <td>A195EZSQDW3E21</td>\n",
              "      <td>The primary job of this device is to block the...</td>\n",
              "      <td>Positive</td>\n",
              "    </tr>\n",
              "  </tbody>\n",
              "</table>\n",
              "</div>\n",
              "      <button class=\"colab-df-convert\" onclick=\"convertToInteractive('df-0c7134eb-b1b8-418e-b137-fc7607c99c9d')\"\n",
              "              title=\"Convert this dataframe to an interactive table.\"\n",
              "              style=\"display:none;\">\n",
              "        \n",
              "  <svg xmlns=\"http://www.w3.org/2000/svg\" height=\"24px\"viewBox=\"0 0 24 24\"\n",
              "       width=\"24px\">\n",
              "    <path d=\"M0 0h24v24H0V0z\" fill=\"none\"/>\n",
              "    <path d=\"M18.56 5.44l.94 2.06.94-2.06 2.06-.94-2.06-.94-.94-2.06-.94 2.06-2.06.94zm-11 1L8.5 8.5l.94-2.06 2.06-.94-2.06-.94L8.5 2.5l-.94 2.06-2.06.94zm10 10l.94 2.06.94-2.06 2.06-.94-2.06-.94-.94-2.06-.94 2.06-2.06.94z\"/><path d=\"M17.41 7.96l-1.37-1.37c-.4-.4-.92-.59-1.43-.59-.52 0-1.04.2-1.43.59L10.3 9.45l-7.72 7.72c-.78.78-.78 2.05 0 2.83L4 21.41c.39.39.9.59 1.41.59.51 0 1.02-.2 1.41-.59l7.78-7.78 2.81-2.81c.8-.78.8-2.07 0-2.86zM5.41 20L4 18.59l7.72-7.72 1.47 1.35L5.41 20z\"/>\n",
              "  </svg>\n",
              "      </button>\n",
              "      \n",
              "  <style>\n",
              "    .colab-df-container {\n",
              "      display:flex;\n",
              "      flex-wrap:wrap;\n",
              "      gap: 12px;\n",
              "    }\n",
              "\n",
              "    .colab-df-convert {\n",
              "      background-color: #E8F0FE;\n",
              "      border: none;\n",
              "      border-radius: 50%;\n",
              "      cursor: pointer;\n",
              "      display: none;\n",
              "      fill: #1967D2;\n",
              "      height: 32px;\n",
              "      padding: 0 0 0 0;\n",
              "      width: 32px;\n",
              "    }\n",
              "\n",
              "    .colab-df-convert:hover {\n",
              "      background-color: #E2EBFA;\n",
              "      box-shadow: 0px 1px 2px rgba(60, 64, 67, 0.3), 0px 1px 3px 1px rgba(60, 64, 67, 0.15);\n",
              "      fill: #174EA6;\n",
              "    }\n",
              "\n",
              "    [theme=dark] .colab-df-convert {\n",
              "      background-color: #3B4455;\n",
              "      fill: #D2E3FC;\n",
              "    }\n",
              "\n",
              "    [theme=dark] .colab-df-convert:hover {\n",
              "      background-color: #434B5C;\n",
              "      box-shadow: 0px 1px 3px 1px rgba(0, 0, 0, 0.15);\n",
              "      filter: drop-shadow(0px 1px 2px rgba(0, 0, 0, 0.3));\n",
              "      fill: #FFFFFF;\n",
              "    }\n",
              "  </style>\n",
              "\n",
              "      <script>\n",
              "        const buttonEl =\n",
              "          document.querySelector('#df-0c7134eb-b1b8-418e-b137-fc7607c99c9d button.colab-df-convert');\n",
              "        buttonEl.style.display =\n",
              "          google.colab.kernel.accessAllowed ? 'block' : 'none';\n",
              "\n",
              "        async function convertToInteractive(key) {\n",
              "          const element = document.querySelector('#df-0c7134eb-b1b8-418e-b137-fc7607c99c9d');\n",
              "          const dataTable =\n",
              "            await google.colab.kernel.invokeFunction('convertToInteractive',\n",
              "                                                     [key], {});\n",
              "          if (!dataTable) return;\n",
              "\n",
              "          const docLinkHtml = 'Like what you see? Visit the ' +\n",
              "            '<a target=\"_blank\" href=https://colab.research.google.com/notebooks/data_table.ipynb>data table notebook</a>'\n",
              "            + ' to learn more about interactive tables.';\n",
              "          element.innerHTML = '';\n",
              "          dataTable['output_type'] = 'display_data';\n",
              "          await google.colab.output.renderOutput(dataTable, element);\n",
              "          const docLink = document.createElement('div');\n",
              "          docLink.innerHTML = docLinkHtml;\n",
              "          element.appendChild(docLink);\n",
              "        }\n",
              "      </script>\n",
              "    </div>\n",
              "  </div>\n",
              "  "
            ]
          },
          "metadata": {},
          "execution_count": 18
        }
      ],
      "source": [
        "# reviewing dataset\n",
        "df.head(3)"
      ]
    },
    {
      "cell_type": "markdown",
      "id": "46774d5b",
      "metadata": {
        "id": "46774d5b"
      },
      "source": [
        "#### Cleaning reviews\n",
        "<br> Now we have only 3 columns for the model - **reviewerID, reviews, sentiment**.\n",
        "<br> Before making the model, we have to clean the reviews by the following ways -\n",
        "1. Bring all the words in the small letter\n",
        "2. Removing the * and ? from the sentences\n",
        "3. Removing the links from the sentences\n",
        "4. Removing the new line character.\n",
        "5. Removing the dates and numbers mentioned in the sentence."
      ]
    },
    {
      "cell_type": "code",
      "execution_count": 19,
      "id": "a484247b",
      "metadata": {
        "id": "a484247b"
      },
      "outputs": [],
      "source": [
        "import re # importing the regular expression library\n",
        "import string # import the string library for work on stings\n",
        "\n",
        "# creating a function to clean the reviews\n",
        "def review_cleaning(text):\n",
        "    # lower all the character\n",
        "    text = str(text).lower()\n",
        "    # remove all enclosed square bracket\n",
        "    text = re.sub('\\[.*?\\]', '', text)\n",
        "    # Repalcing  all the links with space\n",
        "    text = re.sub('https?://\\S+|www\\.\\S+', '', text)\n",
        "    # Replacing all the html tags with space\n",
        "    text = re.sub('<.*?>+', '', text)\n",
        "    # Replacing all the punctuation with space\n",
        "    text = re.sub('[%s]' % re.escape(string.punctuation), '', text)\n",
        "    # Replacing all the new line character with the space\n",
        "    text = re.sub('\\n', '', text)\n",
        "    # Replacing all the alpha numeric character with space\n",
        "    text = re.sub('\\w*\\d\\w*', '', text)\n",
        "    # retuning the output text\n",
        "    return text"
      ]
    },
    {
      "cell_type": "code",
      "execution_count": 20,
      "id": "fb1815df",
      "metadata": {
        "colab": {
          "base_uri": "https://localhost:8080/",
          "height": 143
        },
        "id": "fb1815df",
        "outputId": "6c20db6a-95df-4403-99fb-e53150117550"
      },
      "outputs": [
        {
          "output_type": "execute_result",
          "data": {
            "text/plain": [
              "       reviewerID                                            reviews sentiment\n",
              "0  A2IBPI20UZIR0U  not much to write about here but it does exact...  Positive\n",
              "1  A14VAT5EAX3D9S  the product does exactly as it should and is q...  Positive\n",
              "2  A195EZSQDW3E21  the primary job of this device is to block the...  Positive"
            ],
            "text/html": [
              "\n",
              "  <div id=\"df-3145d537-ac02-4775-9d74-cefa5dc22208\">\n",
              "    <div class=\"colab-df-container\">\n",
              "      <div>\n",
              "<style scoped>\n",
              "    .dataframe tbody tr th:only-of-type {\n",
              "        vertical-align: middle;\n",
              "    }\n",
              "\n",
              "    .dataframe tbody tr th {\n",
              "        vertical-align: top;\n",
              "    }\n",
              "\n",
              "    .dataframe thead th {\n",
              "        text-align: right;\n",
              "    }\n",
              "</style>\n",
              "<table border=\"1\" class=\"dataframe\">\n",
              "  <thead>\n",
              "    <tr style=\"text-align: right;\">\n",
              "      <th></th>\n",
              "      <th>reviewerID</th>\n",
              "      <th>reviews</th>\n",
              "      <th>sentiment</th>\n",
              "    </tr>\n",
              "  </thead>\n",
              "  <tbody>\n",
              "    <tr>\n",
              "      <th>0</th>\n",
              "      <td>A2IBPI20UZIR0U</td>\n",
              "      <td>not much to write about here but it does exact...</td>\n",
              "      <td>Positive</td>\n",
              "    </tr>\n",
              "    <tr>\n",
              "      <th>1</th>\n",
              "      <td>A14VAT5EAX3D9S</td>\n",
              "      <td>the product does exactly as it should and is q...</td>\n",
              "      <td>Positive</td>\n",
              "    </tr>\n",
              "    <tr>\n",
              "      <th>2</th>\n",
              "      <td>A195EZSQDW3E21</td>\n",
              "      <td>the primary job of this device is to block the...</td>\n",
              "      <td>Positive</td>\n",
              "    </tr>\n",
              "  </tbody>\n",
              "</table>\n",
              "</div>\n",
              "      <button class=\"colab-df-convert\" onclick=\"convertToInteractive('df-3145d537-ac02-4775-9d74-cefa5dc22208')\"\n",
              "              title=\"Convert this dataframe to an interactive table.\"\n",
              "              style=\"display:none;\">\n",
              "        \n",
              "  <svg xmlns=\"http://www.w3.org/2000/svg\" height=\"24px\"viewBox=\"0 0 24 24\"\n",
              "       width=\"24px\">\n",
              "    <path d=\"M0 0h24v24H0V0z\" fill=\"none\"/>\n",
              "    <path d=\"M18.56 5.44l.94 2.06.94-2.06 2.06-.94-2.06-.94-.94-2.06-.94 2.06-2.06.94zm-11 1L8.5 8.5l.94-2.06 2.06-.94-2.06-.94L8.5 2.5l-.94 2.06-2.06.94zm10 10l.94 2.06.94-2.06 2.06-.94-2.06-.94-.94-2.06-.94 2.06-2.06.94z\"/><path d=\"M17.41 7.96l-1.37-1.37c-.4-.4-.92-.59-1.43-.59-.52 0-1.04.2-1.43.59L10.3 9.45l-7.72 7.72c-.78.78-.78 2.05 0 2.83L4 21.41c.39.39.9.59 1.41.59.51 0 1.02-.2 1.41-.59l7.78-7.78 2.81-2.81c.8-.78.8-2.07 0-2.86zM5.41 20L4 18.59l7.72-7.72 1.47 1.35L5.41 20z\"/>\n",
              "  </svg>\n",
              "      </button>\n",
              "      \n",
              "  <style>\n",
              "    .colab-df-container {\n",
              "      display:flex;\n",
              "      flex-wrap:wrap;\n",
              "      gap: 12px;\n",
              "    }\n",
              "\n",
              "    .colab-df-convert {\n",
              "      background-color: #E8F0FE;\n",
              "      border: none;\n",
              "      border-radius: 50%;\n",
              "      cursor: pointer;\n",
              "      display: none;\n",
              "      fill: #1967D2;\n",
              "      height: 32px;\n",
              "      padding: 0 0 0 0;\n",
              "      width: 32px;\n",
              "    }\n",
              "\n",
              "    .colab-df-convert:hover {\n",
              "      background-color: #E2EBFA;\n",
              "      box-shadow: 0px 1px 2px rgba(60, 64, 67, 0.3), 0px 1px 3px 1px rgba(60, 64, 67, 0.15);\n",
              "      fill: #174EA6;\n",
              "    }\n",
              "\n",
              "    [theme=dark] .colab-df-convert {\n",
              "      background-color: #3B4455;\n",
              "      fill: #D2E3FC;\n",
              "    }\n",
              "\n",
              "    [theme=dark] .colab-df-convert:hover {\n",
              "      background-color: #434B5C;\n",
              "      box-shadow: 0px 1px 3px 1px rgba(0, 0, 0, 0.15);\n",
              "      filter: drop-shadow(0px 1px 2px rgba(0, 0, 0, 0.3));\n",
              "      fill: #FFFFFF;\n",
              "    }\n",
              "  </style>\n",
              "\n",
              "      <script>\n",
              "        const buttonEl =\n",
              "          document.querySelector('#df-3145d537-ac02-4775-9d74-cefa5dc22208 button.colab-df-convert');\n",
              "        buttonEl.style.display =\n",
              "          google.colab.kernel.accessAllowed ? 'block' : 'none';\n",
              "\n",
              "        async function convertToInteractive(key) {\n",
              "          const element = document.querySelector('#df-3145d537-ac02-4775-9d74-cefa5dc22208');\n",
              "          const dataTable =\n",
              "            await google.colab.kernel.invokeFunction('convertToInteractive',\n",
              "                                                     [key], {});\n",
              "          if (!dataTable) return;\n",
              "\n",
              "          const docLinkHtml = 'Like what you see? Visit the ' +\n",
              "            '<a target=\"_blank\" href=https://colab.research.google.com/notebooks/data_table.ipynb>data table notebook</a>'\n",
              "            + ' to learn more about interactive tables.';\n",
              "          element.innerHTML = '';\n",
              "          dataTable['output_type'] = 'display_data';\n",
              "          await google.colab.output.renderOutput(dataTable, element);\n",
              "          const docLink = document.createElement('div');\n",
              "          docLink.innerHTML = docLinkHtml;\n",
              "          element.appendChild(docLink);\n",
              "        }\n",
              "      </script>\n",
              "    </div>\n",
              "  </div>\n",
              "  "
            ]
          },
          "metadata": {},
          "execution_count": 20
        }
      ],
      "source": [
        "# applying the created function on the reviews column\n",
        "df['reviews'] = df['reviews'].apply(lambda x:review_cleaning(x))\n",
        "# reviewing the dataset\n",
        "df.head(3)"
      ]
    },
    {
      "cell_type": "markdown",
      "id": "2f2d46af",
      "metadata": {
        "id": "2f2d46af"
      },
      "source": [
        "There are lots of words which are repeated and not useful in prediction of sentimens."
      ]
    },
    {
      "cell_type": "code",
      "execution_count": 21,
      "id": "b628e79e",
      "metadata": {
        "colab": {
          "base_uri": "https://localhost:8080/",
          "height": 178
        },
        "id": "b628e79e",
        "outputId": "3e2c976f-e12f-475e-a358-72d7ba7cb496"
      },
      "outputs": [
        {
          "output_type": "stream",
          "name": "stderr",
          "text": [
            "[nltk_data] Downloading package stopwords to /root/nltk_data...\n",
            "[nltk_data]   Unzipping corpora/stopwords.zip.\n"
          ]
        },
        {
          "output_type": "execute_result",
          "data": {
            "text/plain": [
              "       reviewerID                                            reviews sentiment\n",
              "0  A2IBPI20UZIR0U  much write exactly supposed filters pop sounds...  Positive\n",
              "1  A14VAT5EAX3D9S  product exactly quite affordablei realized dou...  Positive\n",
              "2  A195EZSQDW3E21  primary job device block breath would otherwis...  Positive"
            ],
            "text/html": [
              "\n",
              "  <div id=\"df-4859e7f5-a980-484c-8297-5cc96d165dc6\">\n",
              "    <div class=\"colab-df-container\">\n",
              "      <div>\n",
              "<style scoped>\n",
              "    .dataframe tbody tr th:only-of-type {\n",
              "        vertical-align: middle;\n",
              "    }\n",
              "\n",
              "    .dataframe tbody tr th {\n",
              "        vertical-align: top;\n",
              "    }\n",
              "\n",
              "    .dataframe thead th {\n",
              "        text-align: right;\n",
              "    }\n",
              "</style>\n",
              "<table border=\"1\" class=\"dataframe\">\n",
              "  <thead>\n",
              "    <tr style=\"text-align: right;\">\n",
              "      <th></th>\n",
              "      <th>reviewerID</th>\n",
              "      <th>reviews</th>\n",
              "      <th>sentiment</th>\n",
              "    </tr>\n",
              "  </thead>\n",
              "  <tbody>\n",
              "    <tr>\n",
              "      <th>0</th>\n",
              "      <td>A2IBPI20UZIR0U</td>\n",
              "      <td>much write exactly supposed filters pop sounds...</td>\n",
              "      <td>Positive</td>\n",
              "    </tr>\n",
              "    <tr>\n",
              "      <th>1</th>\n",
              "      <td>A14VAT5EAX3D9S</td>\n",
              "      <td>product exactly quite affordablei realized dou...</td>\n",
              "      <td>Positive</td>\n",
              "    </tr>\n",
              "    <tr>\n",
              "      <th>2</th>\n",
              "      <td>A195EZSQDW3E21</td>\n",
              "      <td>primary job device block breath would otherwis...</td>\n",
              "      <td>Positive</td>\n",
              "    </tr>\n",
              "  </tbody>\n",
              "</table>\n",
              "</div>\n",
              "      <button class=\"colab-df-convert\" onclick=\"convertToInteractive('df-4859e7f5-a980-484c-8297-5cc96d165dc6')\"\n",
              "              title=\"Convert this dataframe to an interactive table.\"\n",
              "              style=\"display:none;\">\n",
              "        \n",
              "  <svg xmlns=\"http://www.w3.org/2000/svg\" height=\"24px\"viewBox=\"0 0 24 24\"\n",
              "       width=\"24px\">\n",
              "    <path d=\"M0 0h24v24H0V0z\" fill=\"none\"/>\n",
              "    <path d=\"M18.56 5.44l.94 2.06.94-2.06 2.06-.94-2.06-.94-.94-2.06-.94 2.06-2.06.94zm-11 1L8.5 8.5l.94-2.06 2.06-.94-2.06-.94L8.5 2.5l-.94 2.06-2.06.94zm10 10l.94 2.06.94-2.06 2.06-.94-2.06-.94-.94-2.06-.94 2.06-2.06.94z\"/><path d=\"M17.41 7.96l-1.37-1.37c-.4-.4-.92-.59-1.43-.59-.52 0-1.04.2-1.43.59L10.3 9.45l-7.72 7.72c-.78.78-.78 2.05 0 2.83L4 21.41c.39.39.9.59 1.41.59.51 0 1.02-.2 1.41-.59l7.78-7.78 2.81-2.81c.8-.78.8-2.07 0-2.86zM5.41 20L4 18.59l7.72-7.72 1.47 1.35L5.41 20z\"/>\n",
              "  </svg>\n",
              "      </button>\n",
              "      \n",
              "  <style>\n",
              "    .colab-df-container {\n",
              "      display:flex;\n",
              "      flex-wrap:wrap;\n",
              "      gap: 12px;\n",
              "    }\n",
              "\n",
              "    .colab-df-convert {\n",
              "      background-color: #E8F0FE;\n",
              "      border: none;\n",
              "      border-radius: 50%;\n",
              "      cursor: pointer;\n",
              "      display: none;\n",
              "      fill: #1967D2;\n",
              "      height: 32px;\n",
              "      padding: 0 0 0 0;\n",
              "      width: 32px;\n",
              "    }\n",
              "\n",
              "    .colab-df-convert:hover {\n",
              "      background-color: #E2EBFA;\n",
              "      box-shadow: 0px 1px 2px rgba(60, 64, 67, 0.3), 0px 1px 3px 1px rgba(60, 64, 67, 0.15);\n",
              "      fill: #174EA6;\n",
              "    }\n",
              "\n",
              "    [theme=dark] .colab-df-convert {\n",
              "      background-color: #3B4455;\n",
              "      fill: #D2E3FC;\n",
              "    }\n",
              "\n",
              "    [theme=dark] .colab-df-convert:hover {\n",
              "      background-color: #434B5C;\n",
              "      box-shadow: 0px 1px 3px 1px rgba(0, 0, 0, 0.15);\n",
              "      filter: drop-shadow(0px 1px 2px rgba(0, 0, 0, 0.3));\n",
              "      fill: #FFFFFF;\n",
              "    }\n",
              "  </style>\n",
              "\n",
              "      <script>\n",
              "        const buttonEl =\n",
              "          document.querySelector('#df-4859e7f5-a980-484c-8297-5cc96d165dc6 button.colab-df-convert');\n",
              "        buttonEl.style.display =\n",
              "          google.colab.kernel.accessAllowed ? 'block' : 'none';\n",
              "\n",
              "        async function convertToInteractive(key) {\n",
              "          const element = document.querySelector('#df-4859e7f5-a980-484c-8297-5cc96d165dc6');\n",
              "          const dataTable =\n",
              "            await google.colab.kernel.invokeFunction('convertToInteractive',\n",
              "                                                     [key], {});\n",
              "          if (!dataTable) return;\n",
              "\n",
              "          const docLinkHtml = 'Like what you see? Visit the ' +\n",
              "            '<a target=\"_blank\" href=https://colab.research.google.com/notebooks/data_table.ipynb>data table notebook</a>'\n",
              "            + ' to learn more about interactive tables.';\n",
              "          element.innerHTML = '';\n",
              "          dataTable['output_type'] = 'display_data';\n",
              "          await google.colab.output.renderOutput(dataTable, element);\n",
              "          const docLink = document.createElement('div');\n",
              "          docLink.innerHTML = docLinkHtml;\n",
              "          element.appendChild(docLink);\n",
              "        }\n",
              "      </script>\n",
              "    </div>\n",
              "  </div>\n",
              "  "
            ]
          },
          "metadata": {},
          "execution_count": 21
        }
      ],
      "source": [
        "# Importing nltk\n",
        "import nltk\n",
        "# downloading stopwords library from the nltk\n",
        "nltk.download('stopwords')\n",
        "# import stopwords\n",
        "from nltk.corpus import stopwords\n",
        "# Removing the english stopwords from the sentence and again join the word without stopwords\n",
        "df['reviews'] = df['reviews'].apply(lambda x: ' '.join([word for word in x.split() if word not in (stopwords.words('english'))]))\n",
        "# Reviewing the dataset\n",
        "df.head(3)"
      ]
    },
    {
      "cell_type": "code",
      "execution_count": 22,
      "id": "eabf53ec",
      "metadata": {
        "colab": {
          "base_uri": "https://localhost:8080/",
          "height": 143
        },
        "id": "eabf53ec",
        "outputId": "8eb0e4a8-4f4e-4772-b52c-7e26c756ea45"
      },
      "outputs": [
        {
          "output_type": "execute_result",
          "data": {
            "text/plain": [
              "                                             reviews\n",
              "0  much write exactly supposed filters pop sounds...\n",
              "1  product exactly quite affordablei realized dou...\n",
              "2  primary job device block breath would otherwis..."
            ],
            "text/html": [
              "\n",
              "  <div id=\"df-e7c58db3-7c5a-44dd-9630-fce19ed107e5\">\n",
              "    <div class=\"colab-df-container\">\n",
              "      <div>\n",
              "<style scoped>\n",
              "    .dataframe tbody tr th:only-of-type {\n",
              "        vertical-align: middle;\n",
              "    }\n",
              "\n",
              "    .dataframe tbody tr th {\n",
              "        vertical-align: top;\n",
              "    }\n",
              "\n",
              "    .dataframe thead th {\n",
              "        text-align: right;\n",
              "    }\n",
              "</style>\n",
              "<table border=\"1\" class=\"dataframe\">\n",
              "  <thead>\n",
              "    <tr style=\"text-align: right;\">\n",
              "      <th></th>\n",
              "      <th>reviews</th>\n",
              "    </tr>\n",
              "  </thead>\n",
              "  <tbody>\n",
              "    <tr>\n",
              "      <th>0</th>\n",
              "      <td>much write exactly supposed filters pop sounds...</td>\n",
              "    </tr>\n",
              "    <tr>\n",
              "      <th>1</th>\n",
              "      <td>product exactly quite affordablei realized dou...</td>\n",
              "    </tr>\n",
              "    <tr>\n",
              "      <th>2</th>\n",
              "      <td>primary job device block breath would otherwis...</td>\n",
              "    </tr>\n",
              "  </tbody>\n",
              "</table>\n",
              "</div>\n",
              "      <button class=\"colab-df-convert\" onclick=\"convertToInteractive('df-e7c58db3-7c5a-44dd-9630-fce19ed107e5')\"\n",
              "              title=\"Convert this dataframe to an interactive table.\"\n",
              "              style=\"display:none;\">\n",
              "        \n",
              "  <svg xmlns=\"http://www.w3.org/2000/svg\" height=\"24px\"viewBox=\"0 0 24 24\"\n",
              "       width=\"24px\">\n",
              "    <path d=\"M0 0h24v24H0V0z\" fill=\"none\"/>\n",
              "    <path d=\"M18.56 5.44l.94 2.06.94-2.06 2.06-.94-2.06-.94-.94-2.06-.94 2.06-2.06.94zm-11 1L8.5 8.5l.94-2.06 2.06-.94-2.06-.94L8.5 2.5l-.94 2.06-2.06.94zm10 10l.94 2.06.94-2.06 2.06-.94-2.06-.94-.94-2.06-.94 2.06-2.06.94z\"/><path d=\"M17.41 7.96l-1.37-1.37c-.4-.4-.92-.59-1.43-.59-.52 0-1.04.2-1.43.59L10.3 9.45l-7.72 7.72c-.78.78-.78 2.05 0 2.83L4 21.41c.39.39.9.59 1.41.59.51 0 1.02-.2 1.41-.59l7.78-7.78 2.81-2.81c.8-.78.8-2.07 0-2.86zM5.41 20L4 18.59l7.72-7.72 1.47 1.35L5.41 20z\"/>\n",
              "  </svg>\n",
              "      </button>\n",
              "      \n",
              "  <style>\n",
              "    .colab-df-container {\n",
              "      display:flex;\n",
              "      flex-wrap:wrap;\n",
              "      gap: 12px;\n",
              "    }\n",
              "\n",
              "    .colab-df-convert {\n",
              "      background-color: #E8F0FE;\n",
              "      border: none;\n",
              "      border-radius: 50%;\n",
              "      cursor: pointer;\n",
              "      display: none;\n",
              "      fill: #1967D2;\n",
              "      height: 32px;\n",
              "      padding: 0 0 0 0;\n",
              "      width: 32px;\n",
              "    }\n",
              "\n",
              "    .colab-df-convert:hover {\n",
              "      background-color: #E2EBFA;\n",
              "      box-shadow: 0px 1px 2px rgba(60, 64, 67, 0.3), 0px 1px 3px 1px rgba(60, 64, 67, 0.15);\n",
              "      fill: #174EA6;\n",
              "    }\n",
              "\n",
              "    [theme=dark] .colab-df-convert {\n",
              "      background-color: #3B4455;\n",
              "      fill: #D2E3FC;\n",
              "    }\n",
              "\n",
              "    [theme=dark] .colab-df-convert:hover {\n",
              "      background-color: #434B5C;\n",
              "      box-shadow: 0px 1px 3px 1px rgba(0, 0, 0, 0.15);\n",
              "      filter: drop-shadow(0px 1px 2px rgba(0, 0, 0, 0.3));\n",
              "      fill: #FFFFFF;\n",
              "    }\n",
              "  </style>\n",
              "\n",
              "      <script>\n",
              "        const buttonEl =\n",
              "          document.querySelector('#df-e7c58db3-7c5a-44dd-9630-fce19ed107e5 button.colab-df-convert');\n",
              "        buttonEl.style.display =\n",
              "          google.colab.kernel.accessAllowed ? 'block' : 'none';\n",
              "\n",
              "        async function convertToInteractive(key) {\n",
              "          const element = document.querySelector('#df-e7c58db3-7c5a-44dd-9630-fce19ed107e5');\n",
              "          const dataTable =\n",
              "            await google.colab.kernel.invokeFunction('convertToInteractive',\n",
              "                                                     [key], {});\n",
              "          if (!dataTable) return;\n",
              "\n",
              "          const docLinkHtml = 'Like what you see? Visit the ' +\n",
              "            '<a target=\"_blank\" href=https://colab.research.google.com/notebooks/data_table.ipynb>data table notebook</a>'\n",
              "            + ' to learn more about interactive tables.';\n",
              "          element.innerHTML = '';\n",
              "          dataTable['output_type'] = 'display_data';\n",
              "          await google.colab.output.renderOutput(dataTable, element);\n",
              "          const docLink = document.createElement('div');\n",
              "          docLink.innerHTML = docLinkHtml;\n",
              "          element.appendChild(docLink);\n",
              "        }\n",
              "      </script>\n",
              "    </div>\n",
              "  </div>\n",
              "  "
            ]
          },
          "metadata": {},
          "execution_count": 22
        }
      ],
      "source": [
        "# copying the dataset to prevent the damage of the raw dataset.\n",
        "review_features = df.copy()\n",
        "# from the copied dataset create a object for the review column\n",
        "review_features = review_features[['reviews']].reset_index(drop=True)\n",
        "# previewing the feature\n",
        "review_features.head(3)"
      ]
    },
    {
      "cell_type": "markdown",
      "id": "29d22f1f",
      "metadata": {
        "id": "29d22f1f"
      },
      "source": [
        "There are lot of words which are not is in there base form, for eg - Historical, Historically all converted into Histori."
      ]
    },
    {
      "cell_type": "code",
      "execution_count": 23,
      "id": "76e8dc41",
      "metadata": {
        "id": "76e8dc41"
      },
      "outputs": [],
      "source": [
        "# Using a Porter Stemmer library from nltk to perform the stemming task\n",
        "from nltk.stem.porter import PorterStemmer\n",
        "# Creating a stemming object\n",
        "ps = PorterStemmer()\n",
        "# creating a corpus list which stores the stemmed words of a sentence\n",
        "corpus = []\n",
        "# looping over all the reviews\n",
        "for i in range(0, len(review_features)):\n",
        "    # removing all the character which is other than alphabets\n",
        "    review = re.sub('[^a-zA-Z]', ' ', review_features['reviews'][i])\n",
        "    # spliting the sentence into words\n",
        "    review = review.split()\n",
        "    # looping over a words of a sentences and perform porter stemming\n",
        "    review = [ps.stem(word) for word in review if not word in stopwords.words('english')]\n",
        "    # joining the stemmed words with spaces\n",
        "    review = ' '.join(review)\n",
        "    # inserting the stemmed sentences into the corpus\n",
        "    corpus.append(review)   "
      ]
    },
    {
      "cell_type": "markdown",
      "id": "49e768b5",
      "metadata": {
        "id": "49e768b5"
      },
      "source": [
        "## Vectorization"
      ]
    },
    {
      "cell_type": "markdown",
      "id": "8549d399",
      "metadata": {
        "id": "8549d399"
      },
      "source": [
        "Now we have a cleaned and perfect sentence for the model perparation, but Machine can't work with alphabets, hence it should be converted into numbers.\n",
        "\n",
        "<br> Vectorization can be done on two ways - \n",
        "*   ngram = 1 means taking one word at a time\n",
        "*   ngram = 2 means taking two word at a time"
      ]
    },
    {
      "cell_type": "code",
      "execution_count": 24,
      "id": "ca7e5055",
      "metadata": {
        "id": "ca7e5055"
      },
      "outputs": [],
      "source": [
        "# Importing tf-idf vectorizer\n",
        "from sklearn.feature_extraction.text import TfidfVectorizer\n",
        "# creating an object of tfidf vectorizer with ngram = 1\n",
        "tfidf1 = TfidfVectorizer(max_features=5000,ngram_range=(1,1))\n",
        "# fitting the vectorizer on the reviews\n",
        "X1 = tfidf1.fit_transform(review_features['reviews'])\n",
        "# creating an object of tfidf vectorizer with ngram = 2\n",
        "tfidf2 = TfidfVectorizer(max_features=5000,ngram_range=(2,2))\n",
        "# fitting the vectorizer on the reviews\n",
        "X2 = tfidf2.fit_transform(review_features['reviews'])"
      ]
    },
    {
      "cell_type": "markdown",
      "id": "0bc38527",
      "metadata": {
        "id": "0bc38527"
      },
      "source": [
        "## Encoding"
      ]
    },
    {
      "cell_type": "markdown",
      "id": "aa625f25",
      "metadata": {
        "id": "aa625f25"
      },
      "source": [
        "We have target column as **sentiment**, it is also in the categorical form to convert it into a numerical form, label encoder is used."
      ]
    },
    {
      "cell_type": "code",
      "execution_count": 25,
      "id": "a5d7c9a4",
      "metadata": {
        "colab": {
          "base_uri": "https://localhost:8080/"
        },
        "id": "a5d7c9a4",
        "outputId": "28aed1f4-f3b3-43fa-b881-cecb77128182"
      },
      "outputs": [
        {
          "output_type": "execute_result",
          "data": {
            "text/plain": [
              "array([2, 1, 0])"
            ]
          },
          "metadata": {},
          "execution_count": 25
        }
      ],
      "source": [
        "# Import Label Encoder\n",
        "from sklearn.preprocessing import LabelEncoder\n",
        "# Creating an object of label encoder\n",
        "label_encoder = LabelEncoder() \n",
        "# fitting the encoder into the sentiment columns\n",
        "df['sentiment']= label_encoder.fit_transform(df['sentiment']) \n",
        "# printing the unique values of sentiment\n",
        "df['sentiment'].unique() "
      ]
    },
    {
      "cell_type": "code",
      "execution_count": 26,
      "id": "8c979900",
      "metadata": {
        "id": "8c979900"
      },
      "outputs": [],
      "source": [
        "# Creating a variable for target column\n",
        "y = df['sentiment']"
      ]
    },
    {
      "cell_type": "markdown",
      "id": "9676d1f9",
      "metadata": {
        "id": "9676d1f9"
      },
      "source": [
        "Now we ave X1 (with n_gram  = 1) and X2 (with n_gram = 2) as input column and y as target column, "
      ]
    },
    {
      "cell_type": "code",
      "execution_count": 27,
      "id": "d57b9b75",
      "metadata": {
        "colab": {
          "base_uri": "https://localhost:8080/"
        },
        "id": "d57b9b75",
        "outputId": "ee73b2f3-3f8b-413c-9a32-91fc76fdf000"
      },
      "outputs": [
        {
          "output_type": "execute_result",
          "data": {
            "text/plain": [
              "2    9015\n",
              "1     772\n",
              "0     467\n",
              "Name: sentiment, dtype: int64"
            ]
          },
          "metadata": {},
          "execution_count": 27
        }
      ],
      "source": [
        "# counting the values of each class\n",
        "y.value_counts()"
      ]
    },
    {
      "cell_type": "markdown",
      "id": "353d9421",
      "metadata": {
        "id": "353d9421"
      },
      "source": [
        "We don't have all the three classified value in the equal proportion. Because of this our model can baised with a single prediction. Hence I used **SMOTE oversampling** method to increase the number of observation such that all the three classes will be in equal proporion."
      ]
    },
    {
      "cell_type": "markdown",
      "id": "667e20c6",
      "metadata": {
        "id": "667e20c6"
      },
      "source": [
        "## SMOTE Oversampling"
      ]
    },
    {
      "cell_type": "code",
      "execution_count": 28,
      "id": "Xy3bONxpqsk1",
      "metadata": {
        "id": "Xy3bONxpqsk1"
      },
      "outputs": [],
      "source": [
        "# Import the smote oversampling library form the imblearn \n",
        "from imblearn.over_sampling import SMOTE\n",
        "# create a smote object \n",
        "smote = SMOTE(random_state= 42)\n",
        "# fit and create new dataset using mono-gram\n",
        "X1_res, y_res = smote.fit_resample(X1,y)\n",
        "# fit and create new dataset using bi-gram\n",
        "X2_res, y_res = smote.fit_resample(X2,y)"
      ]
    },
    {
      "cell_type": "code",
      "execution_count": 29,
      "id": "vskIlTgVsX3a",
      "metadata": {
        "id": "vskIlTgVsX3a",
        "colab": {
          "base_uri": "https://localhost:8080/"
        },
        "outputId": "29167018-4049-418c-9eee-c11d06c02422"
      },
      "outputs": [
        {
          "output_type": "execute_result",
          "data": {
            "text/plain": [
              "2    9015\n",
              "1    9015\n",
              "0    9015\n",
              "Name: sentiment, dtype: int64"
            ]
          },
          "metadata": {},
          "execution_count": 29
        }
      ],
      "source": [
        "# checking the count of values in each class\n",
        "y_res.value_counts()"
      ]
    },
    {
      "cell_type": "markdown",
      "id": "2bee5a60",
      "metadata": {
        "id": "2bee5a60"
      },
      "source": [
        "Now all the three values are in equal proportions"
      ]
    },
    {
      "cell_type": "markdown",
      "id": "04f10907",
      "metadata": {
        "id": "04f10907"
      },
      "source": [
        "## Train-Test Split"
      ]
    },
    {
      "cell_type": "code",
      "execution_count": 30,
      "id": "d-GgS2Ipsrhz",
      "metadata": {
        "id": "d-GgS2Ipsrhz"
      },
      "outputs": [],
      "source": [
        "#import the train test split\n",
        "from sklearn.model_selection import train_test_split"
      ]
    },
    {
      "cell_type": "markdown",
      "id": "495deb3d",
      "metadata": {
        "id": "495deb3d"
      },
      "source": [
        "Split the dataset (having ngram 1) into train and test in the ratio of 3 : 1"
      ]
    },
    {
      "cell_type": "code",
      "execution_count": 31,
      "id": "0P9jR6snsb_k",
      "metadata": {
        "id": "0P9jR6snsb_k"
      },
      "outputs": [],
      "source": [
        "# divide the dataset into train and test\n",
        "X1_train, X1_test, y1_train, y1_test = train_test_split(X1_res, y_res, test_size=0.25, random_state=0)"
      ]
    },
    {
      "cell_type": "markdown",
      "id": "116c5b32",
      "metadata": {
        "id": "116c5b32"
      },
      "source": [
        "Split the dataset (having ngram 2) into train and test in the ratio of 3 : 1"
      ]
    },
    {
      "cell_type": "code",
      "execution_count": 32,
      "id": "7KQHA4Afsm3W",
      "metadata": {
        "id": "7KQHA4Afsm3W"
      },
      "outputs": [],
      "source": [
        "# divide the dataset into train and test\n",
        "X2_train, X2_test, y2_train, y2_test = train_test_split(X2_res, y_res, test_size=0.25, random_state=0)"
      ]
    },
    {
      "cell_type": "markdown",
      "id": "t8upRLUEtBQz",
      "metadata": {
        "id": "t8upRLUEtBQz"
      },
      "source": [
        "## Models"
      ]
    },
    {
      "cell_type": "markdown",
      "id": "fa3637ee",
      "metadata": {
        "id": "fa3637ee"
      },
      "source": [
        "Now we will use several models to train the model\n",
        "\n",
        "1.   Support Vector Classifier\n",
        "2.   K-Nearest Neighbour Classifier\n",
        "3.   Logistic Regression"
      ]
    },
    {
      "cell_type": "markdown",
      "id": "2f1c2a33",
      "metadata": {
        "id": "2f1c2a33"
      },
      "source": [
        "**Support Vector Classifier**"
      ]
    },
    {
      "cell_type": "code",
      "execution_count": 33,
      "id": "17fe87d9",
      "metadata": {
        "id": "17fe87d9"
      },
      "outputs": [],
      "source": [
        "# import the svm classifier model\n",
        "from sklearn.svm import SVC\n",
        "# creating an object for SVM classifier\n",
        "svc1 = SVC() # for mono gram\n",
        "svc2 = SVC() # for bi gram"
      ]
    },
    {
      "cell_type": "markdown",
      "id": "SVexCXtKum1y",
      "metadata": {
        "id": "SVexCXtKum1y"
      },
      "source": [
        "Prediction through a **Mono-Gram** training set"
      ]
    },
    {
      "cell_type": "code",
      "execution_count": 34,
      "id": "Z2SyWEmzwgIL",
      "metadata": {
        "id": "Z2SyWEmzwgIL",
        "colab": {
          "base_uri": "https://localhost:8080/"
        },
        "outputId": "1eb5183c-4668-47f3-b2b9-d4290e713463"
      },
      "outputs": [
        {
          "output_type": "stream",
          "name": "stdout",
          "text": [
            "Support Vector Classifier Train Accuracy: 0.9984716264852339\n",
            "Support Vector Classifier Test Accuracy: 0.9900916888494529\n"
          ]
        }
      ],
      "source": [
        "# fit the model on the mono gramically vectorize training dataset\n",
        "svc1.fit(X1_train, y1_train)\n",
        "# Printing the score of training and test dataset\n",
        "print(\"Support Vector Classifier Train Accuracy: {}\".format(svc1.score(X1_train, y1_train)))\n",
        "print(\"Support Vector Classifier Test Accuracy: {}\".format(svc1.score(X1_test, y1_test)))"
      ]
    },
    {
      "cell_type": "markdown",
      "id": "42fb8532",
      "metadata": {
        "id": "42fb8532"
      },
      "source": [
        "Prediction through a **Bi-Gram** training set"
      ]
    },
    {
      "cell_type": "code",
      "execution_count": 35,
      "id": "b07f0c57",
      "metadata": {
        "colab": {
          "base_uri": "https://localhost:8080/"
        },
        "id": "b07f0c57",
        "outputId": "e31884b1-b2d7-4a52-a5c1-be9ac2a185ab"
      },
      "outputs": [
        {
          "output_type": "stream",
          "name": "stdout",
          "text": [
            "Support Vector Classifier Train Accuracy: 0.9691367154760144\n",
            "Support Vector Classifier Test Accuracy: 0.9609582963620231\n"
          ]
        }
      ],
      "source": [
        "# fit the model on the bi gramically vectorize training dataset\n",
        "svc2.fit(X2_train, y2_train)\n",
        "# Printing the score of training and test dataset\n",
        "print(\"Support Vector Classifier Train Accuracy: {}\".format(svc2.score(X2_train, y2_train)))\n",
        "print(\"Support Vector Classifier Test Accuracy: {}\".format(svc2.score(X2_test, y2_test)))"
      ]
    },
    {
      "cell_type": "markdown",
      "id": "864e234c",
      "metadata": {
        "id": "864e234c"
      },
      "source": [
        "**K Nearest Neighbour**"
      ]
    },
    {
      "cell_type": "code",
      "execution_count": 36,
      "id": "b5084860",
      "metadata": {
        "id": "b5084860"
      },
      "outputs": [],
      "source": [
        "# import the KNN classifier model\n",
        "from sklearn.neighbors import KNeighborsClassifier\n",
        "# creating an object for KNN classifier\n",
        "knn1 = KNeighborsClassifier() # for mono gram\n",
        "knn2 = KNeighborsClassifier() # for bi gram"
      ]
    },
    {
      "cell_type": "markdown",
      "id": "016a9c95",
      "metadata": {
        "id": "016a9c95"
      },
      "source": [
        "Prediction through a **Mono-Gram** training set"
      ]
    },
    {
      "cell_type": "code",
      "execution_count": 37,
      "id": "245c82ae",
      "metadata": {
        "id": "245c82ae",
        "colab": {
          "base_uri": "https://localhost:8080/"
        },
        "outputId": "c68bb34e-3d8d-4e46-e40e-a67e5e219bf9"
      },
      "outputs": [
        {
          "output_type": "stream",
          "name": "stdout",
          "text": [
            "K Nearest Neighbour Train Accuracy: 0.686190405758517\n",
            "K Nearest Neighbour Test Accuracy: 0.6821946169772257\n"
          ]
        }
      ],
      "source": [
        "# fit the model on the mono gramically vectorize training dataset\n",
        "knn1.fit(X1_train, y1_train)\n",
        "# Printing the score of training and test dataset\n",
        "print(\"K Nearest Neighbour Train Accuracy: {}\".format(knn1.score(X1_train, y1_train)))\n",
        "print(\"K Nearest Neighbour Test Accuracy: {}\".format(knn1.score(X1_test, y1_test)))"
      ]
    },
    {
      "cell_type": "markdown",
      "id": "7de5c49a",
      "metadata": {
        "id": "7de5c49a"
      },
      "source": [
        "Prediction through a **Bi-Gram** training set"
      ]
    },
    {
      "cell_type": "code",
      "execution_count": 38,
      "id": "d2d7fed8",
      "metadata": {
        "id": "d2d7fed8",
        "colab": {
          "base_uri": "https://localhost:8080/"
        },
        "outputId": "ac56845a-5892-46b1-809d-0e0d805dd2a3"
      },
      "outputs": [
        {
          "output_type": "stream",
          "name": "stdout",
          "text": [
            "K Nearest Neighbour Train Accuracy: 0.6563624710348568\n",
            "K Nearest Neighbour Test Accuracy: 0.637385388938184\n"
          ]
        }
      ],
      "source": [
        "# fit the model on the bi gramically vectorize training dataset\n",
        "knn2.fit(X2_train, y2_train)\n",
        "# Printing the score of training and test dataset\n",
        "print(\"K Nearest Neighbour Train Accuracy: {}\".format(knn2.score(X2_train, y2_train)))\n",
        "print(\"K Nearest Neighbour Test Accuracy: {}\".format(knn2.score(X2_test, y2_test)))"
      ]
    },
    {
      "cell_type": "markdown",
      "id": "8922a450",
      "metadata": {
        "id": "8922a450"
      },
      "source": [
        "**Logistic Regression**"
      ]
    },
    {
      "cell_type": "code",
      "execution_count": 39,
      "id": "0fc75d1a",
      "metadata": {
        "id": "0fc75d1a"
      },
      "outputs": [],
      "source": [
        "# import a logistic regression model\n",
        "from sklearn.linear_model import LogisticRegression\n",
        "# creating an object for Logistic Regression classifier\n",
        "logreg1 = LogisticRegression(random_state=0) # for mono gram\n",
        "logreg2 = LogisticRegression(random_state=0) # for bi gram"
      ]
    },
    {
      "cell_type": "markdown",
      "id": "675bb9d1",
      "metadata": {
        "id": "675bb9d1"
      },
      "source": [
        "Prediction through a **Mono-Gram** training set"
      ]
    },
    {
      "cell_type": "code",
      "execution_count": 40,
      "id": "918cf445",
      "metadata": {
        "id": "918cf445",
        "colab": {
          "base_uri": "https://localhost:8080/"
        },
        "outputId": "34143137-87ba-4667-9789-47039d50e24d"
      },
      "outputs": [
        {
          "output_type": "stream",
          "name": "stdout",
          "text": [
            "Logistic Regression Train Accuracy: 0.9662278755608145\n",
            "Logistic Regression Test Accuracy: 0.9418811002661934\n"
          ]
        }
      ],
      "source": [
        "# fit the model on the mono gramically vectorize training dataset\n",
        "logreg1.fit(X1_train, y1_train)\n",
        "# Printing the score of training and test dataset\n",
        "print(\"Logistic Regression Train Accuracy: {}\".format(logreg1.score(X1_train, y1_train)))\n",
        "print(\"Logistic Regression Test Accuracy: {}\".format(logreg1.score(X1_test, y1_test)))"
      ]
    },
    {
      "cell_type": "markdown",
      "id": "433400b4",
      "metadata": {
        "id": "433400b4"
      },
      "source": [
        "Prediction through a **Bi-Gram** training set"
      ]
    },
    {
      "cell_type": "code",
      "execution_count": 41,
      "id": "a8f46a5c",
      "metadata": {
        "id": "a8f46a5c",
        "colab": {
          "base_uri": "https://localhost:8080/"
        },
        "outputId": "cd9afb10-58ca-4e6a-d28c-209b72f6a0ac"
      },
      "outputs": [
        {
          "output_type": "stream",
          "name": "stdout",
          "text": [
            "Logistic Regression Train Accuracy: 0.9225952768328156\n",
            "Logistic Regression Test Accuracy: 0.8713398402839396\n"
          ]
        }
      ],
      "source": [
        "# fit the model on the bi gramically vectorize training dataset\n",
        "logreg2.fit(X2_train, y2_train)\n",
        "# Printing the score of training and test dataset\n",
        "print(\"Logistic Regression Train Accuracy: {}\".format(logreg2.score(X2_train, y2_train)))\n",
        "print(\"Logistic Regression Test Accuracy: {}\".format(logreg2.score(X2_test, y2_test)))"
      ]
    },
    {
      "cell_type": "markdown",
      "source": [
        "**Insights:**\n",
        "\n",
        "*   SVC gives the score of 99% on Mono-Gram model\n",
        "*   KNN gives the score of 96% on Bi-Gram model\n",
        "*   Logistic Regreesion gives the score of 96% on Bii-Gram model"
      ],
      "metadata": {
        "id": "Pa7rViGQ96be"
      },
      "id": "Pa7rViGQ96be"
    },
    {
      "cell_type": "markdown",
      "id": "90d921d5",
      "metadata": {
        "id": "90d921d5"
      },
      "source": [
        "## Evaluation"
      ]
    },
    {
      "cell_type": "markdown",
      "source": [
        "#### Evaluation of SVC"
      ],
      "metadata": {
        "id": "v99cn_3u-G_3"
      },
      "id": "v99cn_3u-G_3"
    },
    {
      "cell_type": "code",
      "source": [
        "# making prediction using SVC mono gram model\n",
        "pred_svc = svc1.predict(X1_test)\n",
        "# import classification report\n",
        "from sklearn.metrics import classification_report\n",
        "# print the classification report\n",
        "print(\"Classification Report:\\n\", classification_report(y1_test, pred_svc))\n",
        "# import roc - auc score from the metrices\n",
        "from sklearn.metrics import roc_auc_score\n",
        "# predict the roc - auc score \n",
        "roc_auc_score(y2_test, knn2.predict_proba(X2_test), multi_class='ovr')"
      ],
      "metadata": {
        "colab": {
          "base_uri": "https://localhost:8080/"
        },
        "id": "AfT73LLa9_KX",
        "outputId": "52574ff7-d503-43c9-aa4b-4b6325b37ef4"
      },
      "id": "AfT73LLa9_KX",
      "execution_count": 42,
      "outputs": [
        {
          "output_type": "stream",
          "name": "stdout",
          "text": [
            "Classification Report:\n",
            "               precision    recall  f1-score   support\n",
            "\n",
            "           0       1.00      1.00      1.00      2302\n",
            "           1       1.00      0.97      0.99      2246\n",
            "           2       0.97      1.00      0.99      2214\n",
            "\n",
            "    accuracy                           0.99      6762\n",
            "   macro avg       0.99      0.99      0.99      6762\n",
            "weighted avg       0.99      0.99      0.99      6762\n",
            "\n"
          ]
        },
        {
          "output_type": "execute_result",
          "data": {
            "text/plain": [
              "0.797114884787912"
            ]
          },
          "metadata": {},
          "execution_count": 42
        }
      ]
    },
    {
      "cell_type": "markdown",
      "source": [
        "#### Evaluation of KNN"
      ],
      "metadata": {
        "id": "czV_osewFE8f"
      },
      "id": "czV_osewFE8f"
    },
    {
      "cell_type": "code",
      "source": [
        "# making prediction using KNN mono gram model\n",
        "pred_knn = knn1.predict(X1_test)\n",
        "# print the classification report\n",
        "print(\"Classification Report:\\n\", classification_report(y1_test, pred_knn))\n",
        "# print the roc auc score\n",
        "roc_auc_score(y1_test, knn1.predict_proba(X1_test), multi_class='ovr')"
      ],
      "metadata": {
        "colab": {
          "base_uri": "https://localhost:8080/"
        },
        "id": "hA-m6Fy5-L_A",
        "outputId": "61620fee-a1aa-4bb6-c96c-e1e23ff6f1dc"
      },
      "id": "hA-m6Fy5-L_A",
      "execution_count": 43,
      "outputs": [
        {
          "output_type": "stream",
          "name": "stdout",
          "text": [
            "Classification Report:\n",
            "               precision    recall  f1-score   support\n",
            "\n",
            "           0       0.73      1.00      0.85      2302\n",
            "           1       0.63      1.00      0.77      2246\n",
            "           2       1.00      0.03      0.06      2214\n",
            "\n",
            "    accuracy                           0.68      6762\n",
            "   macro avg       0.79      0.68      0.56      6762\n",
            "weighted avg       0.79      0.68      0.56      6762\n",
            "\n"
          ]
        },
        {
          "output_type": "execute_result",
          "data": {
            "text/plain": [
              "0.8271179750533415"
            ]
          },
          "metadata": {},
          "execution_count": 43
        }
      ]
    },
    {
      "cell_type": "markdown",
      "source": [
        "#### Evaluation of Logistic Regression"
      ],
      "metadata": {
        "id": "15gzUzSg-2Y-"
      },
      "id": "15gzUzSg-2Y-"
    },
    {
      "cell_type": "code",
      "source": [
        "# making prediction using logistic regression mono gram model\n",
        "pred_logreg = logreg1.predict(X1_test)\n",
        "# print the classification report\n",
        "print(\"Classification Report:\\n\", classification_report(y1_test, pred_logreg))\n",
        "# print the roc auc score\n",
        "roc_auc_score(y1_test, logreg1.predict_proba(X1_test), multi_class='ovr')"
      ],
      "metadata": {
        "colab": {
          "base_uri": "https://localhost:8080/"
        },
        "id": "vjhKcPg5-1Z0",
        "outputId": "c5f3bf94-cbcc-4878-bbf5-4808499faf9b"
      },
      "id": "vjhKcPg5-1Z0",
      "execution_count": 44,
      "outputs": [
        {
          "output_type": "stream",
          "name": "stdout",
          "text": [
            "Classification Report:\n",
            "               precision    recall  f1-score   support\n",
            "\n",
            "           0       0.96      0.99      0.98      2302\n",
            "           1       0.90      0.97      0.93      2246\n",
            "           2       0.97      0.86      0.91      2214\n",
            "\n",
            "    accuracy                           0.94      6762\n",
            "   macro avg       0.94      0.94      0.94      6762\n",
            "weighted avg       0.94      0.94      0.94      6762\n",
            "\n"
          ]
        },
        {
          "output_type": "execute_result",
          "data": {
            "text/plain": [
              "0.9880553967940177"
            ]
          },
          "metadata": {},
          "execution_count": 44
        }
      ]
    },
    {
      "cell_type": "code",
      "execution_count": 44,
      "id": "28t60eaQTQSP",
      "metadata": {
        "id": "28t60eaQTQSP"
      },
      "outputs": [],
      "source": []
    }
  ],
  "metadata": {
    "colab": {
      "collapsed_sections": [
        "60e449de"
      ],
      "provenance": []
    },
    "kernelspec": {
      "display_name": "Python 3 (ipykernel)",
      "language": "python",
      "name": "python3"
    },
    "language_info": {
      "codemirror_mode": {
        "name": "ipython",
        "version": 3
      },
      "file_extension": ".py",
      "mimetype": "text/x-python",
      "name": "python",
      "nbconvert_exporter": "python",
      "pygments_lexer": "ipython3",
      "version": "3.10.8"
    }
  },
  "nbformat": 4,
  "nbformat_minor": 5
}